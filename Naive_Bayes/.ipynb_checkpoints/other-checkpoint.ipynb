{
 "cells": [
  {
   "cell_type": "code",
   "execution_count": 17,
   "id": "4e2a4618",
   "metadata": {},
   "outputs": [],
   "source": [
    "import pandas as pd\n",
    "import numpy as np\n",
    "from sklearn.model_selection import train_test_split\n",
    "import random\n",
    "from collections import Counter\n",
    "from numpy import log, ones,zeros"
   ]
  },
  {
   "cell_type": "code",
   "execution_count": 3,
   "id": "e45fb1ce",
   "metadata": {},
   "outputs": [],
   "source": [
    "def textParse(bigString):  # 输入big string，输出word list\n",
    "    import re\n",
    "    listOfTokens = re.split('\\W', bigString)\n",
    "    return [tok.lower() for tok in listOfTokens if len(tok) > 0]"
   ]
  },
  {
   "cell_type": "code",
   "execution_count": 4,
   "id": "e4efa7c2",
   "metadata": {},
   "outputs": [],
   "source": [
    "def load_data_and_split(data_path:str, val_rate:float):\n",
    "    \"\"\"\n",
    "    加载数据集并划分训练集和验证集\n",
    "    :param data_path: 数据集路径\n",
    "    :param val_rate: 验证集比例\n",
    "    :return: 训练集列表，验证集列表，训练集标签列表，验证集标签列表\n",
    "    \"\"\"\n",
    "    sms = pd.read_csv(data_path, sep='\\t', header=None)\n",
    "    data_lines = sms.loc[:,1].values.tolist()\n",
    "    label_list = sms.loc[:,0].values.tolist()\n",
    "    data_list = []\n",
    "    for data_line in data_lines:\n",
    "        data_line = textParse(data_line)\n",
    "        data_list.append(data_line)\n",
    "    train_data, val_data, train_label, val_label = train_test_split(data_list, label_list, test_size=val_rate, \n",
    "                                                                        random_state=random.randint(0,1000),shuffle=True)\n",
    "    return train_data,val_data, train_label,val_label"
   ]
  },
  {
   "cell_type": "code",
   "execution_count": 5,
   "id": "d007ce82",
   "metadata": {},
   "outputs": [],
   "source": [
    "train_data, val_data, train_label, val_label = load_data_and_split('./SMSSpamCollection',0.2)"
   ]
  },
  {
   "cell_type": "code",
   "execution_count": 2,
   "id": "48cfa586",
   "metadata": {},
   "outputs": [],
   "source": [
    "def creatVocabList(Data):\n",
    "    List = set([])  # 创建一个空集合\n",
    "    for document in Data:\n",
    "        List = List | set(document)  # 对两个集合求并集\n",
    "    return list(List)"
   ]
  },
  {
   "cell_type": "code",
   "execution_count": 47,
   "id": "b0c0cd4f",
   "metadata": {},
   "outputs": [],
   "source": [
    "def dataToVec(vocabList, inputSet):\n",
    "    returnVec = [0] * len(vocabList)\n",
    "    for word in inputSet:\n",
    "        if word in vocabList:\n",
    "            returnVec[vocabList.index(word)] += 1\n",
    "    return returnVec"
   ]
  },
  {
   "cell_type": "code",
   "execution_count": 46,
   "id": "1646a2d6",
   "metadata": {},
   "outputs": [],
   "source": [
    "def naiveBayesTrain(trainData, trainLabel):\n",
    "    N = len(trainData)\n",
    "    NWords = len(trainData[0])\n",
    "    pAbusive = Counter(trainLabel)['spam']/N\n",
    "    p0Num = ones(NWords)\n",
    "    p1Num = ones(NWords)  # Laplace平滑\n",
    "    p0Denom = 2.0\n",
    "    p1Denom = 2.0\n",
    "    for i in range(N):\n",
    "        if trainLabel[i] == 'spam':\n",
    "            p1Num += trainData[i]\n",
    "            p1Denom += sum(trainData[i])\n",
    "        else:\n",
    "            p0Num += trainData[i]\n",
    "            p0Denom += sum(trainData[i])\n",
    "    p1Vect = log(p1Num / p1Denom)\n",
    "    p0Vect = log(p0Num / p0Denom)\n",
    "\n",
    "    return p0Vect, p1Vect, pAbusive"
   ]
  },
  {
   "cell_type": "code",
   "execution_count": 45,
   "id": "3ff62e7d",
   "metadata": {},
   "outputs": [],
   "source": [
    "def naiveBayes(trainData, trainLabel):\n",
    "    N = len(trainData)\n",
    "    NWords = len(trainData[0])\n",
    "    pAbusive = Counter(trainLabel)['spam']/N\n",
    "    p0Num = ones(NWords)\n",
    "    p1Num = ones(NWords)  # Laplace平滑\n",
    "    p0Denom = 2.0\n",
    "    p1Denom = 2.0\n",
    "    for i in range(N):\n",
    "        if trainLabel[i] == 'spam':\n",
    "            p1Num += trainData[i]\n",
    "            p1Denom += sum(trainData[i])\n",
    "        else:\n",
    "            p0Num += trainData[i]\n",
    "            p0Denom += sum(trainData[i])\n",
    "    p1Vect = log(p1Num / p1Denom)\n",
    "    p0Vect = log(p0Num / p0Denom)\n",
    "    \n",
    "    return p0Vect, p1Vect, pAbusive"
   ]
  },
  {
   "cell_type": "code",
   "execution_count": 41,
   "id": "8cf7b982",
   "metadata": {},
   "outputs": [],
   "source": [
    "def naiveBayesClf(testVec, p0Vec, p1Vec, pClass1):\n",
    "    p1 = sum(testVec * p1Vec) + log(pClass1)  # element-wise mult\n",
    "    p0 = sum(testVec * p0Vec) + log(1.0 - pClass1)\n",
    "    if p1 > p0:\n",
    "        return 'spam'\n",
    "    else:\n",
    "        return 'ham'"
   ]
  },
  {
   "cell_type": "code",
   "execution_count": 48,
   "id": "ab22c60c",
   "metadata": {},
   "outputs": [],
   "source": [
    "def getAcc(train_data, val_data, train_label, val_label):\n",
    "    data_list = creatVocabList(train_data)\n",
    "    train_matrix = []\n",
    "    for data in train_data:\n",
    "        train_matrix.append(dataToVec(data_list,data))\n",
    "    p0Vect, p1Vect, pAbusive = naiveBayesTrain(train_matrix,train_label)\n",
    "    acc = 0.0\n",
    "    for i in range(len(val_data)):\n",
    "        val_list = dataToVec(data_list, val_data[i])\n",
    "        if naiveBayesClf(val_list,p0Vect, p1Vect, pAbusive) == val_label[i]:\n",
    "            acc += 1\n",
    "    return round((acc/len(val_data)*100),4)"
   ]
  },
  {
   "cell_type": "code",
   "execution_count": 50,
   "id": "dac0b5f9",
   "metadata": {},
   "outputs": [
    {
     "name": "stdout",
     "output_type": "stream",
     "text": [
      "98.0269\n"
     ]
    }
   ],
   "source": [
    "train_data, val_data, train_label, val_label = load_data_and_split('./SMSSpamCollection',0.2)\n",
    "print(getAcc(train_data, val_data, train_label, val_label))"
   ]
  }
 ],
 "metadata": {
  "kernelspec": {
   "display_name": "Python 3 (ipykernel)",
   "language": "python",
   "name": "python3"
  },
  "language_info": {
   "codemirror_mode": {
    "name": "ipython",
    "version": 3
   },
   "file_extension": ".py",
   "mimetype": "text/x-python",
   "name": "python",
   "nbconvert_exporter": "python",
   "pygments_lexer": "ipython3",
   "version": "3.9.12"
  }
 },
 "nbformat": 4,
 "nbformat_minor": 5
}
