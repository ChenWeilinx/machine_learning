{
 "cells": [
  {
   "cell_type": "code",
   "execution_count": 1,
   "id": "f5a83de6",
   "metadata": {},
   "outputs": [],
   "source": [
    "import pandas as pd\n",
    "import numpy as np\n",
    "from sklearn.model_selection import train_test_split\n",
    "import random\n",
    "from collections import Counter\n",
    "from numpy import log, ones,zeros"
   ]
  },
  {
   "cell_type": "code",
   "execution_count": 139,
   "id": "c452507c",
   "metadata": {},
   "outputs": [],
   "source": [
    "def textParse(bigString):\n",
    "    \"\"\"\n",
    "    将字符串分割\n",
    "    :param data_path: 数据集路径\n",
    "    :param val_rate: 验证集比例\n",
    "    :return: 训练集列表，验证集列表，训练集标签列表，验证集标签列表\n",
    "    \"\"\"\n",
    "    import re\n",
    "    listOfTokens = re.split('\\W', bigString)\n",
    "    return [tok.lower() for tok in listOfTokens if len(tok) > 0]"
   ]
  },
  {
   "cell_type": "code",
   "execution_count": 138,
   "id": "358d4908",
   "metadata": {},
   "outputs": [],
   "source": [
    "def load_data_and_split(data_path:str, val_rate:float):\n",
    "    \"\"\"\n",
    "    加载数据集并划分训练集和验证集\n",
    "    :param data_path: 数据集路径\n",
    "    :param val_rate: 验证集比例\n",
    "    :return: 训练集列表，验证集列表，训练集标签列表，验证集标签列表\n",
    "    \"\"\"\n",
    "    sms = pd.read_csv(data_path, sep='\\t', header=None)\n",
    "    data_lines = sms.loc[:,1].values.tolist()\n",
    "    label_list = sms.loc[:,0].values.tolist()\n",
    "    data_list = []\n",
    "    for data_line in data_lines:\n",
    "        data_line = textParse(data_line)\n",
    "        data_list.append(data_line)\n",
    "    train_data, val_data, train_label, val_label = train_test_split(data_list, label_list, test_size=val_rate, \n",
    "                                                                        random_state=random.randint(0,1000),shuffle=True)\n",
    "    return train_data,val_data, train_label,val_label"
   ]
  },
  {
   "cell_type": "code",
   "execution_count": 165,
   "id": "5ce4ab50",
   "metadata": {},
   "outputs": [],
   "source": [
    "train_data, val_data, train_label, val_label = load_data_and_split('./SMSSpamCollection',0.3)"
   ]
  },
  {
   "cell_type": "code",
   "execution_count": 141,
   "id": "6917bbc5",
   "metadata": {},
   "outputs": [],
   "source": [
    "def creatVocabList(Data):\n",
    "    List = set([])  # 创建一个空集合\n",
    "    for document in Data:\n",
    "        List = List | set(document)  # 对两个集合求并集\n",
    "    return list(List)"
   ]
  },
  {
   "cell_type": "code",
   "execution_count": 170,
   "id": "1efa88df",
   "metadata": {},
   "outputs": [],
   "source": [
    "def word2Vec(vocabList, inputSet):\n",
    "    returnVec = [0] * len(vocabList)\n",
    "    for word in inputSet:\n",
    "        if word in vocabList:\n",
    "            returnVec[vocabList.index(word)] = 1\n",
    "    return np.array(returnVec)"
   ]
  },
  {
   "cell_type": "code",
   "execution_count": 143,
   "id": "9644dcbd",
   "metadata": {},
   "outputs": [],
   "source": [
    "def words2Matrix(dataSet):\n",
    "    data_list = creatVocabList(dataSet)\n",
    "    train_matrix = []\n",
    "    for data in dataSet:\n",
    "        train_matrix.append(word2Vec(data_list,data))\n",
    "    train_matrix = np.array(train_matrix)\n",
    "    return train_matrix"
   ]
  },
  {
   "cell_type": "code",
   "execution_count": 76,
   "id": "d0b6ab7e",
   "metadata": {},
   "outputs": [],
   "source": [
    "train_matrix = words2Matrix(train_data)"
   ]
  },
  {
   "cell_type": "code",
   "execution_count": 176,
   "id": "ed877099",
   "metadata": {},
   "outputs": [],
   "source": [
    "def naiveBayesTrain(trainMatrix, trainLabel):\n",
    "    trainLabel = np.array(trainLabel)\n",
    "    categoryPro = Counter(trainLabel)\n",
    "    p = ones((len(categoryPro.keys()),len(trainMatrix[0])))\n",
    "    for i,key in enumerate(categoryPro.keys()):\n",
    "        filertrainData = trainMatrix[trainLabel == key,:]\n",
    "        p[i] += np.sum(filertrainData,axis=0)\n",
    "        p[i] /= (np.sum(p[i])+2)\n",
    "        p[i] = log(p[i])\n",
    "        categoryPro[key] = log(categoryPro[key]/len(trainLabel))\n",
    "    return p, categoryPro"
   ]
  },
  {
   "cell_type": "code",
   "execution_count": 160,
   "id": "baeb0bff",
   "metadata": {},
   "outputs": [
    {
     "data": {
      "text/plain": [
       "True"
      ]
     },
     "execution_count": 160,
     "metadata": {},
     "output_type": "execute_result"
    }
   ],
   "source": [
    "isinstance(np.array(1),np.ndarray)"
   ]
  },
  {
   "cell_type": "code",
   "execution_count": 180,
   "id": "50357c62",
   "metadata": {},
   "outputs": [],
   "source": [
    "def naiveBayesClf(testVec, p, categoryPro):\n",
    "    testVec = testVec.reshape(1,-1)\n",
    "    label_list = list(categoryPro.keys())\n",
    "    catePro = np.array(list(categoryPro.values()))\n",
    "    pro_list = testVec @ p.T + catePro\n",
    "    return label_list[np.argmax(pro_list)]"
   ]
  },
  {
   "cell_type": "code",
   "execution_count": 182,
   "id": "ee6ed309",
   "metadata": {},
   "outputs": [],
   "source": [
    "train_matrix = words2Matrix(train_data)"
   ]
  },
  {
   "cell_type": "code",
   "execution_count": 183,
   "id": "8c614dd6",
   "metadata": {},
   "outputs": [],
   "source": [
    "def getAcc(train_data, val_data, train_label, val_label):\n",
    "    data_list = creatVocabList(train_data)\n",
    "    train_matrix = words2Matrix(train_data)\n",
    "    p, categoryPro = naiveBayesTrain(train_matrix,train_label)\n",
    "    acc = 0.0\n",
    "    for i in range(len(val_data)):\n",
    "        val_list = word2Vec(data_list, val_data[i])\n",
    "        predict = naiveBayesClf(val_list,p, categoryPro)\n",
    "#         print(predict, val_label[i])\n",
    "        if predict == val_label[i]:\n",
    "            acc += 1\n",
    "    return round((acc/len(val_data)*100),4)"
   ]
  },
  {
   "cell_type": "code",
   "execution_count": 184,
   "id": "3b50fa3a",
   "metadata": {},
   "outputs": [
    {
     "name": "stdout",
     "output_type": "stream",
     "text": [
      "98.6244\n"
     ]
    }
   ],
   "source": [
    "print(getAcc(train_data, val_data, train_label, val_label))"
   ]
  }
 ],
 "metadata": {
  "kernelspec": {
   "display_name": "Python 3 (ipykernel)",
   "language": "python",
   "name": "python3"
  },
  "language_info": {
   "codemirror_mode": {
    "name": "ipython",
    "version": 3
   },
   "file_extension": ".py",
   "mimetype": "text/x-python",
   "name": "python",
   "nbconvert_exporter": "python",
   "pygments_lexer": "ipython3",
   "version": "3.9.12"
  }
 },
 "nbformat": 4,
 "nbformat_minor": 5
}
